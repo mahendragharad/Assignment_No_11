{
  "nbformat": 4,
  "nbformat_minor": 0,
  "metadata": {
    "colab": {
      "provenance": []
    },
    "kernelspec": {
      "name": "python3",
      "display_name": "Python 3"
    },
    "language_info": {
      "name": "python"
    }
  },
  "cells": [
    {
      "cell_type": "markdown",
      "source": [
        "**1. Create an assert statement that throws an AssertionError if the variable spam is a negative\n",
        "integer.**\n",
        "\n",
        "ANS :"
      ],
      "metadata": {
        "id": "lxGsNjBEty4R"
      }
    },
    {
      "cell_type": "code",
      "source": [
        "spam = -1"
      ],
      "metadata": {
        "id": "4hYkPkinuLQd"
      },
      "execution_count": 2,
      "outputs": []
    },
    {
      "cell_type": "code",
      "execution_count": 3,
      "metadata": {
        "colab": {
          "base_uri": "https://localhost:8080/",
          "height": 175
        },
        "id": "unKLFdIwtut2",
        "outputId": "99320169-bff6-4459-bfc4-9085165d69a9"
      },
      "outputs": [
        {
          "output_type": "error",
          "ename": "AssertionError",
          "evalue": "ignored",
          "traceback": [
            "\u001b[0;31m---------------------------------------------------------------------------\u001b[0m",
            "\u001b[0;31mAssertionError\u001b[0m                            Traceback (most recent call last)",
            "\u001b[0;32m<ipython-input-3-3b960fc09d2c>\u001b[0m in \u001b[0;36m<cell line: 1>\u001b[0;34m()\u001b[0m\n\u001b[0;32m----> 1\u001b[0;31m \u001b[0;32massert\u001b[0m \u001b[0mspam\u001b[0m \u001b[0;34m>=\u001b[0m \u001b[0;36m0\u001b[0m\u001b[0;34m,\u001b[0m \u001b[0;34m\"Variable 'spam' cannot be a negative integer.\"\u001b[0m\u001b[0;34m\u001b[0m\u001b[0;34m\u001b[0m\u001b[0m\n\u001b[0m",
            "\u001b[0;31mAssertionError\u001b[0m: Variable 'spam' cannot be a negative integer."
          ]
        }
      ],
      "source": [
        "assert spam >= 0, \"Variable 'spam' cannot be a negative integer.\"\n"
      ]
    },
    {
      "cell_type": "markdown",
      "source": [
        "\n",
        "\n",
        "---\n",
        "\n"
      ],
      "metadata": {
        "id": "kXyfNJsYuQVv"
      }
    },
    {
      "cell_type": "markdown",
      "source": [
        "**2. Write an assert statement that triggers an AssertionError if the variables eggs and bacon contain\n",
        "strings that are the same as each other, even if their cases are different (that is, &#39;hello&#39; and &#39;hello&#39; are\n",
        "considered the same, and &#39;goodbye&#39; and &#39;GOODbye&#39; are also considered the same).**"
      ],
      "metadata": {
        "id": "gfEytqKluncC"
      }
    },
    {
      "cell_type": "code",
      "source": [
        "eggs = \"goodbye\"\n",
        "bacon = \"GOODBYE\""
      ],
      "metadata": {
        "id": "K8fWbDcquc5M"
      },
      "execution_count": 4,
      "outputs": []
    },
    {
      "cell_type": "code",
      "source": [
        "assert eggs.lower() != bacon.lower(), \"Variables 'eggs' and 'bacon' cannot have the same string value.\"\n"
      ],
      "metadata": {
        "colab": {
          "base_uri": "https://localhost:8080/",
          "height": 175
        },
        "id": "t7BjTj9iuEmA",
        "outputId": "173b1f41-ed9e-447d-cbaf-53a20c5ae29d"
      },
      "execution_count": 5,
      "outputs": [
        {
          "output_type": "error",
          "ename": "AssertionError",
          "evalue": "ignored",
          "traceback": [
            "\u001b[0;31m---------------------------------------------------------------------------\u001b[0m",
            "\u001b[0;31mAssertionError\u001b[0m                            Traceback (most recent call last)",
            "\u001b[0;32m<ipython-input-5-9c5278d099b0>\u001b[0m in \u001b[0;36m<cell line: 1>\u001b[0;34m()\u001b[0m\n\u001b[0;32m----> 1\u001b[0;31m \u001b[0;32massert\u001b[0m \u001b[0meggs\u001b[0m\u001b[0;34m.\u001b[0m\u001b[0mlower\u001b[0m\u001b[0;34m(\u001b[0m\u001b[0;34m)\u001b[0m \u001b[0;34m!=\u001b[0m \u001b[0mbacon\u001b[0m\u001b[0;34m.\u001b[0m\u001b[0mlower\u001b[0m\u001b[0;34m(\u001b[0m\u001b[0;34m)\u001b[0m\u001b[0;34m,\u001b[0m \u001b[0;34m\"Variables 'eggs' and 'bacon' cannot have the same string value.\"\u001b[0m\u001b[0;34m\u001b[0m\u001b[0;34m\u001b[0m\u001b[0m\n\u001b[0m",
            "\u001b[0;31mAssertionError\u001b[0m: Variables 'eggs' and 'bacon' cannot have the same string value."
          ]
        }
      ]
    },
    {
      "cell_type": "markdown",
      "source": [
        "\n",
        "\n",
        "---\n",
        "\n"
      ],
      "metadata": {
        "id": "EmUv2qzAur0h"
      }
    },
    {
      "cell_type": "markdown",
      "source": [
        "**3. Create an assert statement that throws an AssertionError every time.**"
      ],
      "metadata": {
        "id": "ekAxvizCuuEP"
      }
    },
    {
      "cell_type": "code",
      "source": [
        "assert 1 == 2, \"This assert statement will always raise an AssertionError.\"\n"
      ],
      "metadata": {
        "colab": {
          "base_uri": "https://localhost:8080/",
          "height": 175
        },
        "id": "Os9ownhquje2",
        "outputId": "e373de9d-179e-4858-87a3-af63d7fea43e"
      },
      "execution_count": 6,
      "outputs": [
        {
          "output_type": "error",
          "ename": "AssertionError",
          "evalue": "ignored",
          "traceback": [
            "\u001b[0;31m---------------------------------------------------------------------------\u001b[0m",
            "\u001b[0;31mAssertionError\u001b[0m                            Traceback (most recent call last)",
            "\u001b[0;32m<ipython-input-6-6159e124265a>\u001b[0m in \u001b[0;36m<cell line: 1>\u001b[0;34m()\u001b[0m\n\u001b[0;32m----> 1\u001b[0;31m \u001b[0;32massert\u001b[0m \u001b[0;36m1\u001b[0m \u001b[0;34m==\u001b[0m \u001b[0;36m2\u001b[0m\u001b[0;34m,\u001b[0m \u001b[0;34m\"This assert statement will always raise an AssertionError.\"\u001b[0m\u001b[0;34m\u001b[0m\u001b[0;34m\u001b[0m\u001b[0m\n\u001b[0m",
            "\u001b[0;31mAssertionError\u001b[0m: This assert statement will always raise an AssertionError."
          ]
        }
      ]
    },
    {
      "cell_type": "markdown",
      "source": [
        "\n",
        "\n",
        "---\n",
        "\n"
      ],
      "metadata": {
        "id": "z3BrnUM2u6Lg"
      }
    },
    {
      "cell_type": "markdown",
      "source": [
        "**4. What are the two lines that must be present in your software in order to call logging.debug()?**"
      ],
      "metadata": {
        "id": "ODwlUp8wu7sH"
      }
    },
    {
      "cell_type": "code",
      "source": [
        "import logging\n",
        "\n",
        "logging.basicConfig(level=logging.DEBUG, format='%(levelname)s: %(message)s')\n",
        "\n"
      ],
      "metadata": {
        "id": "mWd4Bigru4RQ"
      },
      "execution_count": 7,
      "outputs": []
    },
    {
      "cell_type": "markdown",
      "source": [
        "\n",
        "\n",
        "---\n",
        "\n"
      ],
      "metadata": {
        "id": "V6rJrKvyvItM"
      }
    },
    {
      "cell_type": "markdown",
      "source": [
        "**5. What are the two lines that your program must have in order to have logging.debug() send a\n",
        "logging message to a file named programLog.txt?**"
      ],
      "metadata": {
        "id": "RpgW8biivJ6l"
      }
    },
    {
      "cell_type": "code",
      "source": [
        "import logging\n",
        "\n",
        "# Configure the logging settings\n",
        "logging.basicConfig(filename='programLog.txt', level=logging.DEBUG, format='%(levelname)s: %(message)s')\n",
        "\n",
        "# Now you can use logging.debug() to log debug messages, and they will be saved to programLog.txt\n",
        "logging.debug(\"This is a debug message.\")"
      ],
      "metadata": {
        "id": "d23aYsjQvHyj"
      },
      "execution_count": 8,
      "outputs": []
    },
    {
      "cell_type": "markdown",
      "source": [
        "\n",
        "\n",
        "---\n",
        "\n"
      ],
      "metadata": {
        "id": "AnpqWryEvWHS"
      }
    },
    {
      "cell_type": "markdown",
      "source": [
        "**6. What are the five levels of logging?**"
      ],
      "metadata": {
        "id": "rRsGiE8TvW2G"
      }
    },
    {
      "cell_type": "markdown",
      "source": [
        "ANS :\n",
        "\n",
        "The Python logging module defines five levels of logging, which represent different levels of severity for log messages. These levels are used to categorize and prioritize log messages. The five levels of logging, in increasing order of severity, are:\n",
        "\n",
        "**DEBUG:** Used for detailed diagnostic information. Typically used during development and debugging.\n",
        "\n",
        "**INFO:** Used to confirm that things are working as expected. General operational information about the system.\n",
        "\n",
        "**WARNING:** Used to indicate potential issues or situations that might lead to errors in the future, but the program can still continue to run.\n",
        "\n",
        "**ERROR:** Used to indicate more serious errors or issues that have occurred. These might impact the functionality of the program.\n",
        "\n",
        "**CRITICAL**: Used to indicate critical errors that might lead to the termination of the program. This level is reserved for very severe issues.\n",
        "\n",
        "You can assign these levels to your log messages to indicate their severity. When configuring your logging system, you can choose which log messages to capture and display based on their severity level.\n",
        "\n",
        "\n",
        "\n",
        "\n",
        "\n"
      ],
      "metadata": {
        "id": "L8hjg9yJvexH"
      }
    },
    {
      "cell_type": "markdown",
      "source": [
        "\n",
        "\n",
        "---\n",
        "\n"
      ],
      "metadata": {
        "id": "74CsHxjBvmQd"
      }
    },
    {
      "cell_type": "markdown",
      "source": [
        "**7. What line of code would you add to your software to disable all logging messages?**"
      ],
      "metadata": {
        "id": "yI7E5AZ8vnqS"
      }
    },
    {
      "cell_type": "code",
      "source": [
        "import logging\n",
        "\n",
        "# Disable all logging messages\n",
        "logging.disable(logging.CRITICAL + 1)\n"
      ],
      "metadata": {
        "id": "J8nJP50BvVP3"
      },
      "execution_count": 9,
      "outputs": []
    },
    {
      "cell_type": "markdown",
      "source": [
        "\n",
        "\n",
        "---\n",
        "\n"
      ],
      "metadata": {
        "id": "Ny83tqX5vzTU"
      }
    },
    {
      "cell_type": "markdown",
      "source": [
        "**8.Why is using logging messages better than using print() to display the same message?**\n",
        "\n",
        "ANS :\n",
        "\n",
        "\n",
        "Using logging messages is generally considered better than using print() statements for several reasons:\n",
        "\n",
        "Configurability: The logging module allows you to configure the behavior of log messages dynamically. You can control the level of messages to be displayed or logged, change the output format, direct logs to different outputs (console, files, external services), and more. This configurability is helpful for different stages of development and for different deployment environments.\n",
        "\n",
        "Log Levels: The logging module offers different log levels (DEBUG, INFO, WARNING, ERROR, CRITICAL) that allow you to categorize messages based on their severity. This helps in understanding the nature of the message and prioritizing issues.\n",
        "\n",
        "Granular Control: With logging, you can control the level of detail you want to see. During development and debugging, you might want to see detailed debug messages. In production, you can configure the system to only display important information or errors.\n",
        "\n",
        "Persistence: Logging messages can be stored in files, databases, or sent to external logging services. This means that you can review and analyze logs even after the program has completed running. Print statements are temporary and vanish once the program execution is finished.\n",
        "\n",
        "Testing and Maintenance: Logging statements can be left in the code and enable you to diagnose problems in a live environment without modifying the code. On the other hand, print() statements might need to be manually removed before deploying to production.\n",
        "\n",
        "Structured Information: Logging messages can be structured with various fields like timestamp, module name, line number, etc. This provides more context compared to plain print() statements.\n",
        "\n",
        "Separation of Concerns: Logging and program logic are separate concerns. This allows you to keep your codebase clean and maintainable.\n",
        "\n",
        "Performance: In some situations, print() statements might impact the performance of your program. Logging mechanisms can be optimized for performance.\n",
        "\n",
        "Overall, using the logging module provides a more systematic and powerful approach to handling messages in your code compared to simple print() statements."
      ],
      "metadata": {
        "id": "S-aUOqPZv0Qm"
      }
    },
    {
      "cell_type": "markdown",
      "source": [
        "\n",
        "\n",
        "---\n",
        "\n"
      ],
      "metadata": {
        "id": "PWQF3J2Gwesg"
      }
    },
    {
      "cell_type": "markdown",
      "source": [
        "**9. What are the differences between the Step Over, Step In, and Step Out buttons in the debugger?**"
      ],
      "metadata": {
        "id": "O7Af2hHdwgQl"
      }
    },
    {
      "cell_type": "markdown",
      "source": [
        "ANS : The \"Step Over,\" \"Step In,\" and \"Step Out\" buttons are commonly found in debuggers and are used to control the execution of your code during debugging. They each serve a different purpose:\n",
        "\n",
        "**Step Over:**\n",
        "\n",
        "\n",
        "When you click the \"Step Over\" button or use the associated shortcut, the debugger will execute the current line of code. If the line contains a function call, the debugger will execute the entire function without delving into the details of its internal execution. It's like treating the function as a single step, regardless of how many lines are in it. After the function is executed, the debugger will move to the next line in the current scope.\n",
        "\n",
        "**Step In:**\n",
        "\n",
        "Clicking the \"Step In\" button or using the corresponding shortcut is used to enter the details of a function call. If the current line contains a function call, the debugger will \"step into\" that function, taking you to the first line of code inside the function. This allows you to debug the function's internal behavior step by step.\n",
        "\n",
        "**Step Out:**\n",
        "\n",
        "The \"Step Out\" button or shortcut is used when you are already inside a function (i.e., you've used \"Step In\" to enter it) and you want to quickly execute the remaining lines of the current function and return to the caller. The debugger will execute the remaining lines of the current function and then pause when the function returns."
      ],
      "metadata": {
        "id": "X7BFwIs0wmIR"
      }
    },
    {
      "cell_type": "markdown",
      "source": [
        "\n",
        "\n",
        "---\n",
        "\n"
      ],
      "metadata": {
        "id": "ncVRGnnZxI-A"
      }
    },
    {
      "cell_type": "markdown",
      "source": [
        "**10.After you click Continue, when will the debugger stop ?**\n",
        "\n",
        "ANS :\n",
        "\n",
        "After clicking the \"Continue\" button in a debugger, the debugger will stop when one of the following conditions is met:\n",
        "\n",
        "**Breakpoint:** If you have set breakpoints in your code, the debugger will stop when the execution reaches one of these breakpoints. A breakpoint is a specific line of code where you want the debugger to pause so that you can inspect the program's state.\n",
        "\n",
        "**Exception:** If an unhandled exception occurs during execution, the debugger will stop when the exception is raised. This allows you to examine the stack trace and the state of the program at the point of the exception.\n",
        "\n",
        "**Program Completion:** The debugger will stop when the program completes its execution. This is the point where the entire program has finished running, and the debugger will display the final state of variables and any remaining output.\n",
        "\n",
        "**User Interruption:** If you manually interrupt the program, such as by pressing a \"Stop\" or \"Pause\" button in the debugger interface, the debugger will stop immediately.\n",
        "\n",
        "External Factors: In some cases, external factors like signals, timeouts, or interaction with external tools might cause the debugger to stop."
      ],
      "metadata": {
        "id": "frdO8I8JxKOc"
      }
    },
    {
      "cell_type": "markdown",
      "source": [
        "\n",
        "\n",
        "---\n",
        "\n"
      ],
      "metadata": {
        "id": "Gqz_E4K8xkV5"
      }
    },
    {
      "cell_type": "markdown",
      "source": [
        "**11. What is the concept of a breakpoint?**\n",
        "\n",
        "ANS : A breakpoint is a debugging feature used in software development environments to pause the execution of a program at a specific point, typically a specific line of code, so that developers can inspect the program's state, variables, and behavior at that particular moment. Breakpoints are a crucial tool for debugging and troubleshooting code, allowing developers to pinpoint issues and understand the flow of their program's execution."
      ],
      "metadata": {
        "id": "Rj5U0B2ZxlVq"
      }
    },
    {
      "cell_type": "markdown",
      "source": [
        "\n",
        "\n",
        "---\n",
        "\n"
      ],
      "metadata": {
        "id": "4Zjf2RCfx_86"
      }
    }
  ]
}